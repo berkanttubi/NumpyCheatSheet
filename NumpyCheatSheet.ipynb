{
  "nbformat": 4,
  "nbformat_minor": 0,
  "metadata": {
    "colab": {
      "name": "NumpyCheatSheet.ipynb",
      "provenance": [],
      "collapsed_sections": [],
      "include_colab_link": true
    },
    "kernelspec": {
      "name": "python3",
      "display_name": "Python 3"
    }
  },
  "cells": [
    {
      "cell_type": "markdown",
      "metadata": {
        "id": "view-in-github",
        "colab_type": "text"
      },
      "source": [
        "<a href=\"https://colab.research.google.com/github/berkanttubi/NumpyCheatSheet/blob/main/NumpyCheatSheet.ipynb\" target=\"_parent\"><img src=\"https://colab.research.google.com/assets/colab-badge.svg\" alt=\"Open In Colab\"/></a>"
      ]
    },
    {
      "cell_type": "markdown",
      "metadata": {
        "id": "XTh9oHkJiiwj"
      },
      "source": [
        "# CREATING ARRAY\n",
        "\n",
        "While creating numpy array, if the type does nt match, Numpy will upcast it if possible. If we want to explicitly set the data type of the resulting array, we can use the dtype *keyword*:\n",
        "\n",
        "\n"
      ]
    },
    {
      "cell_type": "code",
      "metadata": {
        "colab": {
          "base_uri": "https://localhost:8080/"
        },
        "id": "0D_5WBhbiMLO",
        "outputId": "86407f1a-684a-4674-8141-a6e93343eb16"
      },
      "source": [
        "import numpy as np\n",
        "\n",
        "#Create integer array\n",
        "np.array([1,2,4,5])\n",
        "\n",
        "#Type upcasting\n",
        "np.array([3.14,1,2,5])\n",
        "\n",
        "#dtype keyword\n",
        "np.array([1,2,3,4],dtype='float32')\n",
        "\n",
        "#multidimensional array\n",
        "np.array([range(i, i + 3) for i in [2, 4, 6]])"
      ],
      "execution_count": null,
      "outputs": [
        {
          "output_type": "execute_result",
          "data": {
            "text/plain": [
              "array([[2, 3, 4],\n",
              "       [4, 5, 6],\n",
              "       [6, 7, 8]])"
            ]
          },
          "metadata": {
            "tags": []
          },
          "execution_count": 40
        }
      ]
    },
    {
      "cell_type": "markdown",
      "metadata": {
        "id": "mh7DxTB9j4ZI"
      },
      "source": [
        "# CREATING ARRAY FROM SCRATCH\n",
        "\n"
      ]
    },
    {
      "cell_type": "code",
      "metadata": {
        "colab": {
          "base_uri": "https://localhost:8080/"
        },
        "id": "mN8Eq7MBi7hH",
        "outputId": "11836e87-2cff-41c1-a1e0-799167732465"
      },
      "source": [
        "#lengtht 10 , integer zeros\n",
        "np.zeros(10,dtype='int')\n",
        "\n",
        "#Create 3x5 integer ones\n",
        "np.ones((3,5),dtype='int')\n",
        "\n",
        "#Create array fullfilled with any specific value\n",
        "np.full((3,5),3.14)\n",
        "\n",
        "#Like built-in range function\n",
        "np.arange(0,10,2)\n",
        "\n",
        "# Create an array of five values evenly spaced between 0 and 1\n",
        "np.linspace(0,1,5)\n",
        "\n",
        "#Random between 0-1\n",
        "np.random.random((3,5))\n",
        "\n",
        "#Random wiht mean=0, std=1\n",
        "np.random.normal(0,1,(3,3))\n",
        "\n",
        "#Random integers in a range\n",
        "np.random.randint(0,20,(3,3))"
      ],
      "execution_count": null,
      "outputs": [
        {
          "output_type": "execute_result",
          "data": {
            "text/plain": [
              "array([[15, 18, 16],\n",
              "       [ 4,  3, 17],\n",
              "       [13, 18, 18]])"
            ]
          },
          "metadata": {
            "tags": []
          },
          "execution_count": 18
        }
      ]
    },
    {
      "cell_type": "markdown",
      "metadata": {
        "id": "y5brxLZdmlez"
      },
      "source": [
        "# NUMPY ARRAY ATTRIBUTES"
      ]
    },
    {
      "cell_type": "code",
      "metadata": {
        "colab": {
          "base_uri": "https://localhost:8080/"
        },
        "id": "dAnuZNiWkOtG",
        "outputId": "4b967682-db35-4c65-ed14-b57e74b16956"
      },
      "source": [
        "x1= np.random.randint(10,size=6) #One dimensional\n",
        "x2= np.random.randint(10, size=(3,4)) #Two dimensional\n",
        "x3= np.random.randint(10, size = (3,4,5)) #Three dimensional\n",
        "\n",
        "print(x3)\n",
        "print(\"\\n x3 ndim: \", x3.ndim) #Number of dimension\n",
        "print(\"x3 shape:\", x3.shape) #Size of each dimension\n",
        "print(\"x3 size: \", x3.size) #size\n",
        "print(\"x3 dtype: \", x3.dtype) #Dtype"
      ],
      "execution_count": null,
      "outputs": [
        {
          "output_type": "stream",
          "text": [
            "[[[8 4 9 9 9]\n",
            "  [8 3 4 9 4]\n",
            "  [4 0 3 5 3]\n",
            "  [4 9 6 9 6]]\n",
            "\n",
            " [[0 0 3 6 6]\n",
            "  [5 2 1 1 6]\n",
            "  [8 1 0 7 4]\n",
            "  [4 5 1 2 1]]\n",
            "\n",
            " [[9 7 1 9 9]\n",
            "  [8 7 4 3 9]\n",
            "  [0 8 5 5 5]\n",
            "  [0 4 7 8 4]]]\n",
            "\n",
            " x3 ndim:  3\n",
            "x3 shape: (3, 4, 5)\n",
            "x3 size:  60\n",
            "x3 dtype:  int64\n"
          ],
          "name": "stdout"
        }
      ]
    },
    {
      "cell_type": "markdown",
      "metadata": {
        "id": "gLGVSvw5oFNM"
      },
      "source": [
        "!!! One important—and extremely useful—thing to know about array slices is that they\n",
        "return views rather than copies of the array data. This is one area in which NumPy\n",
        "array slicing differs from Python list slicing: in lists, slices will be copies.\n"
      ]
    },
    {
      "cell_type": "code",
      "metadata": {
        "colab": {
          "base_uri": "https://localhost:8080/"
        },
        "id": "o1zjd6HsoSPB",
        "outputId": "0de62aba-0fa4-421d-a820-179ef63fac9c"
      },
      "source": [
        "print(x2)\n",
        "x2_sub = x2[:2,:2]\n",
        "print(x2_sub)"
      ],
      "execution_count": null,
      "outputs": [
        {
          "output_type": "stream",
          "text": [
            "[[0 8 2 8]\n",
            " [0 0 6 7]\n",
            " [9 4 9 7]]\n",
            "[[0 8]\n",
            " [0 0]]\n"
          ],
          "name": "stdout"
        }
      ]
    },
    {
      "cell_type": "code",
      "metadata": {
        "colab": {
          "base_uri": "https://localhost:8080/"
        },
        "id": "dNCk4KYHodUt",
        "outputId": "0c97269e-0eb1-45c2-d16e-aca3f7cf7356"
      },
      "source": [
        "x2_sub[0,0] = 99\n",
        "print(x2)"
      ],
      "execution_count": null,
      "outputs": [
        {
          "output_type": "stream",
          "text": [
            "[[99  8  2  8]\n",
            " [ 0  0  6  7]\n",
            " [ 9  4  9  7]]\n"
          ],
          "name": "stdout"
        }
      ]
    },
    {
      "cell_type": "markdown",
      "metadata": {
        "id": "AbBgAG2Ro9nu"
      },
      "source": [
        "To create and copy of an array we use copy() method\n"
      ]
    },
    {
      "cell_type": "code",
      "metadata": {
        "colab": {
          "base_uri": "https://localhost:8080/"
        },
        "id": "RFYE0q7YouCj",
        "outputId": "d8535e5d-3680-42fe-e3dd-6dacba43acbf"
      },
      "source": [
        "x2_sub_copy = x2[:2,:2].copy()\n",
        "print(x2_sub_copy)"
      ],
      "execution_count": null,
      "outputs": [
        {
          "output_type": "stream",
          "text": [
            "[[99  8]\n",
            " [ 0  0]]\n"
          ],
          "name": "stdout"
        }
      ]
    },
    {
      "cell_type": "code",
      "metadata": {
        "colab": {
          "base_uri": "https://localhost:8080/"
        },
        "id": "OGUBNM_GpNJT",
        "outputId": "07d259f8-01eb-4cab-ce93-997e32161671"
      },
      "source": [
        "x2_sub_copy[0,0] = 42\n",
        "print(x2_sub_copy)\n",
        "print(x2[:2,:2])"
      ],
      "execution_count": null,
      "outputs": [
        {
          "output_type": "stream",
          "text": [
            "[[42  8]\n",
            " [ 0  0]]\n",
            "[[99  8]\n",
            " [ 0  0]]\n"
          ],
          "name": "stdout"
        }
      ]
    },
    {
      "cell_type": "markdown",
      "metadata": {
        "id": "wXT24PRqpxCK"
      },
      "source": [
        "# RESHAPING ARRAYS\n",
        "Note that for this to work, the size of the initial array must match the size of the\n",
        "reshaped array. Where possible, the reshape method will use a no-copy view of the\n",
        "initial array\n",
        "\n",
        "\n"
      ]
    },
    {
      "cell_type": "code",
      "metadata": {
        "colab": {
          "base_uri": "https://localhost:8080/"
        },
        "id": "RI6YYA4-pbEt",
        "outputId": "8128001d-f4da-4e17-c1e6-774e4d04f7ea"
      },
      "source": [
        "grid = np.arange(1,10).reshape(3,3)\n",
        "print(grid)"
      ],
      "execution_count": null,
      "outputs": [
        {
          "output_type": "stream",
          "text": [
            "[[1 2 3]\n",
            " [4 5 6]\n",
            " [7 8 9]]\n"
          ],
          "name": "stdout"
        }
      ]
    },
    {
      "cell_type": "markdown",
      "metadata": {
        "id": "zn2wQS9iuEMD"
      },
      "source": [
        "One dimensional array to two dimensional array; "
      ]
    },
    {
      "cell_type": "code",
      "metadata": {
        "colab": {
          "base_uri": "https://localhost:8080/"
        },
        "id": "UFT0GEdMuLBY",
        "outputId": "ac85faf9-78bc-4a0f-81e4-31c87edc3c80"
      },
      "source": [
        "#One method to do that is reshape()\n",
        "x= np.array([1,2,3])\n",
        "x.reshape(3,1)\n",
        "\n",
        "#Another method is newaxıs\n",
        "x= np.array([1,2,3])\n",
        "x[:,np.newaxis]\n"
      ],
      "execution_count": null,
      "outputs": [
        {
          "output_type": "execute_result",
          "data": {
            "text/plain": [
              "array([[1],\n",
              "       [2],\n",
              "       [3]])"
            ]
          },
          "metadata": {
            "tags": []
          },
          "execution_count": 36
        }
      ]
    },
    {
      "cell_type": "markdown",
      "metadata": {
        "id": "Cdu15g_jvB7H"
      },
      "source": [
        "# ARRAY CONCATENATION AND SPLITTING"
      ]
    },
    {
      "cell_type": "markdown",
      "metadata": {
        "id": "ziaJMOTPvHwf"
      },
      "source": [
        "###Concatenation of arrays "
      ]
    },
    {
      "cell_type": "code",
      "metadata": {
        "colab": {
          "base_uri": "https://localhost:8080/"
        },
        "id": "XUlIQK4bvK4M",
        "outputId": "77bf3df3-52e1-4d76-909e-ddaaede3669c"
      },
      "source": [
        "x= np.array([1,2,3])\n",
        "y=np.array([3,2,1])\n",
        "np.concatenate([x,y])"
      ],
      "execution_count": null,
      "outputs": [
        {
          "output_type": "execute_result",
          "data": {
            "text/plain": [
              "array([1, 2, 3, 3, 2, 1])"
            ]
          },
          "metadata": {
            "tags": []
          },
          "execution_count": 37
        }
      ]
    },
    {
      "cell_type": "code",
      "metadata": {
        "colab": {
          "base_uri": "https://localhost:8080/"
        },
        "id": "j3lNhegGvZq_",
        "outputId": "53c4bc8f-bf22-4a85-d9b8-aa1691965d86"
      },
      "source": [
        "#You can also concatenate more than two arrays at once:\n",
        "z = np.array([9,9,9])\n",
        "np.concatenate([x,y,z])"
      ],
      "execution_count": null,
      "outputs": [
        {
          "output_type": "execute_result",
          "data": {
            "text/plain": [
              "array([1, 2, 3, 3, 2, 1, 9, 9, 9])"
            ]
          },
          "metadata": {
            "tags": []
          },
          "execution_count": 39
        }
      ]
    },
    {
      "cell_type": "code",
      "metadata": {
        "colab": {
          "base_uri": "https://localhost:8080/"
        },
        "id": "xZuaFYffvk3H",
        "outputId": "b4b100d6-b19f-4108-82e9-2d5d488b41df"
      },
      "source": [
        "#You can also concatenate 2-D arrays at once:\n",
        "grid = np.array([[1,2,3],\n",
        "                [4,5,6]])\n",
        "np.concatenate([grid,grid])\n",
        "\n",
        "#Concatenate along the second axixs(zero-indexed)\n",
        "np.concatenate([grid,grid],axis=0)"
      ],
      "execution_count": null,
      "outputs": [
        {
          "output_type": "execute_result",
          "data": {
            "text/plain": [
              "array([[1, 2, 3],\n",
              "       [4, 5, 6],\n",
              "       [1, 2, 3],\n",
              "       [4, 5, 6]])"
            ]
          },
          "metadata": {
            "tags": []
          },
          "execution_count": 44
        }
      ]
    },
    {
      "cell_type": "markdown",
      "metadata": {
        "id": "TM5VDHf_w7JE"
      },
      "source": [
        "Working arrays with mixed dimensions"
      ]
    },
    {
      "cell_type": "code",
      "metadata": {
        "colab": {
          "base_uri": "https://localhost:8080/"
        },
        "id": "xsx2L3oXw-w_",
        "outputId": "9b0d7231-85d1-42d2-a429-351d6ef9535e"
      },
      "source": [
        "#vertical stack\n",
        "x = np.array([1, 2, 3])\n",
        "grid = np.array([[9, 8, 7],\n",
        "                [6, 5, 4]])\n",
        "np.vstack([grid,x])\n",
        "\n",
        "#horizontal stack\n",
        "y = np.array([[99],\n",
        "              [99]])\n",
        "np.hstack([grid,y])"
      ],
      "execution_count": null,
      "outputs": [
        {
          "output_type": "execute_result",
          "data": {
            "text/plain": [
              "array([[ 9,  8,  7, 99],\n",
              "       [ 6,  5,  4, 99]])"
            ]
          },
          "metadata": {
            "tags": []
          },
          "execution_count": 51
        }
      ]
    },
    {
      "cell_type": "markdown",
      "metadata": {
        "id": "9JpE8KjLxvUY"
      },
      "source": [
        "###Splitting"
      ]
    },
    {
      "cell_type": "code",
      "metadata": {
        "colab": {
          "base_uri": "https://localhost:8080/"
        },
        "id": "iVvQsrEQxxM4",
        "outputId": "3257b421-a5b9-48b3-da8b-8f9bbf793230"
      },
      "source": [
        "x = [1, 2, 3, 99, 99, 3, 2, 1]\n",
        "x1, x2, x3, x4 = np.split(x, [2,5,7])\n",
        "print(x1, x2, x3, x4)"
      ],
      "execution_count": null,
      "outputs": [
        {
          "output_type": "stream",
          "text": [
            "[1 2] [ 3 99 99] [3 2] [1]\n"
          ],
          "name": "stdout"
        }
      ]
    },
    {
      "cell_type": "code",
      "metadata": {
        "colab": {
          "base_uri": "https://localhost:8080/"
        },
        "id": "EHmag1hZx0np",
        "outputId": "f6970a63-a6b3-4b2b-966b-544d044b56d1"
      },
      "source": [
        "#Vertical split\n",
        "grid = np.arange(16).reshape((4, 4))\n",
        "print(grid)\n",
        "upper, lower = np.vsplit(grid, [2])\n",
        "print(upper)\n",
        "print(lower)"
      ],
      "execution_count": null,
      "outputs": [
        {
          "output_type": "stream",
          "text": [
            "[[ 0  1  2  3]\n",
            " [ 4  5  6  7]\n",
            " [ 8  9 10 11]\n",
            " [12 13 14 15]]\n",
            "[[0 1 2 3]\n",
            " [4 5 6 7]]\n",
            "[[ 8  9 10 11]\n",
            " [12 13 14 15]]\n"
          ],
          "name": "stdout"
        }
      ]
    },
    {
      "cell_type": "code",
      "metadata": {
        "colab": {
          "base_uri": "https://localhost:8080/"
        },
        "id": "iv1E02zPyM7a",
        "outputId": "754d7df1-b790-4272-fc8d-69bb311e4d9e"
      },
      "source": [
        "#Horizontal split\n",
        "grid = np.arange(16).reshape((4, 4))\n",
        "print(grid)\n",
        "left, right = np.hsplit(grid, [2])\n",
        "print(left)\n",
        "print(right)"
      ],
      "execution_count": null,
      "outputs": [
        {
          "output_type": "stream",
          "text": [
            "[[ 0  1  2  3]\n",
            " [ 4  5  6  7]\n",
            " [ 8  9 10 11]\n",
            " [12 13 14 15]]\n",
            "[[ 0  1]\n",
            " [ 4  5]\n",
            " [ 8  9]\n",
            " [12 13]]\n",
            "[[ 2  3]\n",
            " [ 6  7]\n",
            " [10 11]\n",
            " [14 15]]\n"
          ],
          "name": "stdout"
        }
      ]
    },
    {
      "cell_type": "markdown",
      "metadata": {
        "id": "JHA5FycJz-Q1"
      },
      "source": [
        "# UNIVERSAL FUNCTIONS"
      ]
    },
    {
      "cell_type": "markdown",
      "metadata": {
        "id": "FGTX37_656j4"
      },
      "source": [
        "#### Specifying Output"
      ]
    },
    {
      "cell_type": "code",
      "metadata": {
        "colab": {
          "base_uri": "https://localhost:8080/"
        },
        "id": "kCjCG914589u",
        "outputId": "f3569edc-89a7-4995-a9f1-1fc5e25adc5f"
      },
      "source": [
        "x = np.arange(5)\n",
        "y = np.empty(5)\n",
        "np.multiply(x,10,out=y)\n",
        "print(y)"
      ],
      "execution_count": null,
      "outputs": [
        {
          "output_type": "stream",
          "text": [
            "[ 0. 10. 20. 30. 40.]\n"
          ],
          "name": "stdout"
        }
      ]
    },
    {
      "cell_type": "markdown",
      "metadata": {
        "id": "uYffteE76vNP"
      },
      "source": [
        "#### Aggregates"
      ]
    },
    {
      "cell_type": "code",
      "metadata": {
        "colab": {
          "base_uri": "https://localhost:8080/"
        },
        "id": "JHCY3UiU6yMn",
        "outputId": "92d651b1-7d29-4038-e96a-62c0fb10f51a"
      },
      "source": [
        "# Reduce()\n",
        "x=np.arange(6)\n",
        "np.add.reduce(x)"
      ],
      "execution_count": null,
      "outputs": [
        {
          "output_type": "execute_result",
          "data": {
            "text/plain": [
              "15"
            ]
          },
          "metadata": {
            "tags": []
          },
          "execution_count": 63
        }
      ]
    },
    {
      "cell_type": "code",
      "metadata": {
        "colab": {
          "base_uri": "https://localhost:8080/"
        },
        "id": "IZiMpi9p61Qo",
        "outputId": "3ffea0fa-19ad-41c2-f6ff-d474f6704737"
      },
      "source": [
        "#Accummulate\n",
        "np.add.accumulate(x)"
      ],
      "execution_count": null,
      "outputs": [
        {
          "output_type": "execute_result",
          "data": {
            "text/plain": [
              "array([ 0,  1,  3,  6, 10, 15])"
            ]
          },
          "metadata": {
            "tags": []
          },
          "execution_count": 64
        }
      ]
    },
    {
      "cell_type": "markdown",
      "metadata": {
        "id": "EiB3oZRa7O9L"
      },
      "source": [
        "#### Comparison Operators"
      ]
    },
    {
      "cell_type": "code",
      "metadata": {
        "colab": {
          "base_uri": "https://localhost:8080/"
        },
        "id": "7YOh2Dl274Ga",
        "outputId": "3b618974-9758-4820-93dc-ac65eafffc93"
      },
      "source": [
        "x=np.array([1,2,3,4,5])\n",
        "print(x<3)\n",
        "print(x>3)\n",
        "print(x!=3)\n",
        "print(x==3)"
      ],
      "execution_count": null,
      "outputs": [
        {
          "output_type": "stream",
          "text": [
            "[ True  True False False False]\n",
            "[False False False  True  True]\n",
            "[ True  True False  True  True]\n",
            "[False False  True False False]\n"
          ],
          "name": "stdout"
        }
      ]
    },
    {
      "cell_type": "code",
      "metadata": {
        "colab": {
          "base_uri": "https://localhost:8080/"
        },
        "id": "0KBe-YDE78hL",
        "outputId": "0e4e341a-6c7c-4783-d491-297373e2d284"
      },
      "source": [
        "#Counting\n",
        "print(np.count_nonzero(x<6))\n",
        "print(np.sum(x<6))"
      ],
      "execution_count": null,
      "outputs": [
        {
          "output_type": "stream",
          "text": [
            "5\n",
            "5\n"
          ],
          "name": "stdout"
        }
      ]
    },
    {
      "cell_type": "code",
      "metadata": {
        "colab": {
          "base_uri": "https://localhost:8080/"
        },
        "id": "KQXbAxw_8c3r",
        "outputId": "935758d3-1672-4e61-f1fe-f05c0329b855"
      },
      "source": [
        "#How many values less than 6 in each row?\n",
        "x = np.array([[5,0,3,3],\n",
        "              [7,9,3,5],\n",
        "              [2,4,7,6]])\n",
        "np.sum(x<6, axis=1)"
      ],
      "execution_count": null,
      "outputs": [
        {
          "output_type": "execute_result",
          "data": {
            "text/plain": [
              "array([4, 2, 2])"
            ]
          },
          "metadata": {
            "tags": []
          },
          "execution_count": 71
        }
      ]
    },
    {
      "cell_type": "code",
      "metadata": {
        "colab": {
          "base_uri": "https://localhost:8080/"
        },
        "id": "VHHlm3Z68yUt",
        "outputId": "cf6ab891-18a8-4185-d056-39efe8a5b693"
      },
      "source": [
        "#Any values greater than 6?\n",
        "np.any(x>6)\n",
        "\n",
        "#Any values less than 0?\n",
        "np.any(x<0)\n",
        "\n",
        "#All values less than 10?\n",
        "np.all(x<10)"
      ],
      "execution_count": null,
      "outputs": [
        {
          "output_type": "execute_result",
          "data": {
            "text/plain": [
              "True"
            ]
          },
          "metadata": {
            "tags": []
          },
          "execution_count": 74
        }
      ]
    },
    {
      "cell_type": "markdown",
      "metadata": {
        "id": "edJIMIEm9zZO"
      },
      "source": [
        "#### Selection"
      ]
    },
    {
      "cell_type": "code",
      "metadata": {
        "colab": {
          "base_uri": "https://localhost:8080/"
        },
        "id": "yKKi-PiT93Hj",
        "outputId": "5626fef9-5f2f-402b-9114-39c6e10ee9aa"
      },
      "source": [
        "x = np.array([[5,0,3,3],\n",
        "              [7,9,3,5],\n",
        "              [2,4,7,6]])\n",
        "x[x<5]"
      ],
      "execution_count": null,
      "outputs": [
        {
          "output_type": "execute_result",
          "data": {
            "text/plain": [
              "array([0, 3, 3, 3, 2, 4])"
            ]
          },
          "metadata": {
            "tags": []
          },
          "execution_count": 75
        }
      ]
    },
    {
      "cell_type": "markdown",
      "metadata": {
        "id": "HmhhOocF_uGu"
      },
      "source": [
        "#### Sorting"
      ]
    },
    {
      "cell_type": "code",
      "metadata": {
        "colab": {
          "base_uri": "https://localhost:8080/"
        },
        "id": "hZIwdmru_vga",
        "outputId": "42323a4a-7576-471e-95bf-16cb416718a8"
      },
      "source": [
        "#Sort() function returns the sorted list\n",
        "x= np.array([3,2,1,10,7,11,8,0])\n",
        "np.sort(x)"
      ],
      "execution_count": null,
      "outputs": [
        {
          "output_type": "execute_result",
          "data": {
            "text/plain": [
              "array([ 0,  1,  2,  3,  7,  8, 10, 11])"
            ]
          },
          "metadata": {
            "tags": []
          },
          "execution_count": 79
        }
      ]
    },
    {
      "cell_type": "code",
      "metadata": {
        "colab": {
          "base_uri": "https://localhost:8080/"
        },
        "id": "h6Jsq85OAi0V",
        "outputId": "89748e4d-f3e5-429a-fb0c-c2cfc07ccc77"
      },
      "source": [
        "#Argsort() returns the indexes of the array\n",
        "i=np.argsort(x)\n",
        "print(i)"
      ],
      "execution_count": null,
      "outputs": [
        {
          "output_type": "stream",
          "text": [
            "[7 2 1 0 4 6 3 5]\n"
          ],
          "name": "stdout"
        }
      ]
    },
    {
      "cell_type": "code",
      "metadata": {
        "colab": {
          "base_uri": "https://localhost:8080/"
        },
        "id": "MPDUEgC7Au_8",
        "outputId": "0ebf5562-841d-462d-aaae-9fdf4c054995"
      },
      "source": [
        "x[i]"
      ],
      "execution_count": null,
      "outputs": [
        {
          "output_type": "execute_result",
          "data": {
            "text/plain": [
              "array([ 0,  1,  2,  3,  7,  8, 10, 11])"
            ]
          },
          "metadata": {
            "tags": []
          },
          "execution_count": 85
        }
      ]
    },
    {
      "cell_type": "code",
      "metadata": {
        "colab": {
          "base_uri": "https://localhost:8080/"
        },
        "id": "DpgeLxjRBrB-",
        "outputId": "d258ac3d-0df0-4872-bec6-1b1a6759515f"
      },
      "source": [
        "#K smallest value in array\n",
        "x = np.array([7, 2, 3, 1, 6, 5, 4])\n",
        "np.partition(x, 3) #Elements will have arbitrary order"
      ],
      "execution_count": null,
      "outputs": [
        {
          "output_type": "execute_result",
          "data": {
            "text/plain": [
              "array([2, 1, 3, 4, 6, 5, 7])"
            ]
          },
          "metadata": {
            "tags": []
          },
          "execution_count": 86
        }
      ]
    }
  ]
}